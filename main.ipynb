{
 "cells": [
  {
   "cell_type": "code",
   "execution_count": 3,
   "metadata": {},
   "outputs": [],
   "source": [
    "import mailbox\n",
    "import numpy as np\n",
    "from functools import reduce\n",
    "import json\n",
    "import pandas as pd"
   ]
  },
  {
   "cell_type": "code",
   "execution_count": 19,
   "metadata": {},
   "outputs": [],
   "source": [
    "df = pd.read_json('temp.json',orient='index')"
   ]
  },
  {
   "cell_type": "code",
   "execution_count": 23,
   "metadata": {},
   "outputs": [
    {
     "data": {
      "text/html": [
       "<div>\n",
       "<style scoped>\n",
       "    .dataframe tbody tr th:only-of-type {\n",
       "        vertical-align: middle;\n",
       "    }\n",
       "\n",
       "    .dataframe tbody tr th {\n",
       "        vertical-align: top;\n",
       "    }\n",
       "\n",
       "    .dataframe thead th {\n",
       "        text-align: right;\n",
       "    }\n",
       "</style>\n",
       "<table border=\"1\" class=\"dataframe\">\n",
       "  <thead>\n",
       "    <tr style=\"text-align: right;\">\n",
       "      <th></th>\n",
       "      <th>raw_mail</th>\n",
       "      <th>subject</th>\n",
       "      <th>from</th>\n",
       "      <th>to</th>\n",
       "      <th>status</th>\n",
       "      <th>date</th>\n",
       "      <th>date_type</th>\n",
       "    </tr>\n",
       "  </thead>\n",
       "  <tbody>\n",
       "    <tr>\n",
       "      <th>998</th>\n",
       "      <td>Return-Path: &lt;rmjiwnjc@21cn.com&gt;\\nMessage-Id: ...</td>\n",
       "      <td>business proposal</td>\n",
       "      <td>\"info@crack-ag.com\" &lt;info@crack-ag.com&gt;</td>\n",
       "      <td>R@S</td>\n",
       "      <td>RO</td>\n",
       "      <td>Wed, 14 Jul 04 16:24:45 ������������</td>\n",
       "      <td>&lt;class 'email.header.Header'&gt;</td>\n",
       "    </tr>\n",
       "  </tbody>\n",
       "</table>\n",
       "</div>"
      ],
      "text/plain": [
       "                                              raw_mail            subject  \\\n",
       "998  Return-Path: <rmjiwnjc@21cn.com>\\nMessage-Id: ...  business proposal   \n",
       "\n",
       "                                        from   to status  \\\n",
       "998  \"info@crack-ag.com\" <info@crack-ag.com>  R@S     RO   \n",
       "\n",
       "                                     date                      date_type  \n",
       "998  Wed, 14 Jul 04 16:24:45 ������������  <class 'email.header.Header'>  "
      ]
     },
     "execution_count": 23,
     "metadata": {},
     "output_type": "execute_result"
    }
   ],
   "source": [
    "df[df.date_type == \"<class 'email.header.Header'>\"]\n"
   ]
  },
  {
   "cell_type": "code",
   "execution_count": 43,
   "metadata": {},
   "outputs": [],
   "source": [
    "df2 = pd.read_csv('./data/emails.csv', nrows=100000)\n"
   ]
  },
  {
   "cell_type": "code",
   "execution_count": 37,
   "metadata": {},
   "outputs": [
    {
     "data": {
      "text/plain": [
       "'D:\\x01mportant\\\\Scripts\\\\mbox-parser\\\\main.ipynb'"
      ]
     },
     "execution_count": 37,
     "metadata": {},
     "output_type": "execute_result"
    }
   ],
   "source": [
    "\"D:\\1mportant\\Scripts\\mbox-parser\\main.ipynb\""
   ]
  },
  {
   "cell_type": "code",
   "execution_count": 45,
   "metadata": {},
   "outputs": [
    {
     "data": {
      "text/plain": [
       "(100000, 2)"
      ]
     },
     "execution_count": 45,
     "metadata": {},
     "output_type": "execute_result"
    }
   ],
   "source": [
    "df2.shape"
   ]
  },
  {
   "cell_type": "code",
   "execution_count": 65,
   "metadata": {},
   "outputs": [
    {
     "name": "stdout",
     "output_type": "stream",
     "text": [
      "Message-ID: <14974170.1075855688529.JavaMail.evans@thyme>\n",
      "Date: Wed, 6 Sep 2000 07:00:00 -0700 (PDT)\n",
      "From: phillip.allen@enron.com\n",
      "To: retwell@sanmarcos.net\n",
      "Subject: \n",
      "Mime-Version: 1.0\n",
      "Content-Type: text/plain; charset=us-ascii\n",
      "Content-Transfer-Encoding: 7bit\n",
      "X-From: Phillip K Allen\n",
      "X-To: retwell@sanmarcos.net\n",
      "X-cc: \n",
      "X-bcc: \n",
      "X-Folder: \\Phillip_Allen_Dec2000\\Notes Folders\\'sent mail\n",
      "X-Origin: Allen-P\n",
      "X-FileName: pallen.nsf\n",
      "\n",
      "Larry,\n",
      "\n",
      " Just a note to touch base on the sagewood townhomes and other development \n",
      "opportunities.\n",
      "\n",
      " I stumbled across some other duplexes for sale on the same street. that were \n",
      "built by Reagan Lehmann.  22 Units were sold for \n",
      " around $2 million. ($182,000/duplex).  I spoke to Reagan and he indicated \n",
      "that he had more units under construction that would be \n",
      " available in the 180's.  Are the units he is selling significantly different \n",
      "from yours?  He mentioned some of the units are the 1308 floor\n",
      " plan.  My bid of 2.7 million is almost $193,000/duplex.  \n",
      "\n",
      " As far as being an investor in a new project, I am still very interested.  \n",
      "\n",
      " Call or email with your thoughts.\n",
      "\n",
      "Phillip\n"
     ]
    }
   ],
   "source": [
    "print(df2.loc[60].message)"
   ]
  },
  {
   "cell_type": "code",
   "execution_count": 63,
   "metadata": {},
   "outputs": [
    {
     "name": "stdout",
     "output_type": "stream",
     "text": [
      "['Message-ID', 'Date', 'From', 'To', 'Subject', 'Mime-Version', 'Content-Type', 'Content-Transfer-Encoding', 'X-From', 'X-To', 'X-cc', 'X-bcc', 'X-Folder', 'X-Origin', 'X-FileName']\n",
      "\n"
     ]
    }
   ],
   "source": [
    "from email.parser import Parser\n",
    "from email.policy import default\n",
    "\n",
    "\n",
    "message = Parser(policy=default).parsestr(df2.loc[60].message)\n",
    "print(message.keys())\n",
    "print(message[\"Subject\"])\n"
   ]
  },
  {
   "cell_type": "code",
   "execution_count": null,
   "metadata": {},
   "outputs": [],
   "source": []
  }
 ],
 "metadata": {
  "kernelspec": {
   "display_name": "Python 3.9.12 ('base')",
   "language": "python",
   "name": "python3"
  },
  "language_info": {
   "codemirror_mode": {
    "name": "ipython",
    "version": 3
   },
   "file_extension": ".py",
   "mimetype": "text/x-python",
   "name": "python",
   "nbconvert_exporter": "python",
   "pygments_lexer": "ipython3",
   "version": "3.9.12"
  },
  "orig_nbformat": 4,
  "vscode": {
   "interpreter": {
    "hash": "3f83a4b8e1c187aca35894c8eeaad8267ead7007e3a6e08dfe58ab16c9dd478f"
   }
  }
 },
 "nbformat": 4,
 "nbformat_minor": 2
}
